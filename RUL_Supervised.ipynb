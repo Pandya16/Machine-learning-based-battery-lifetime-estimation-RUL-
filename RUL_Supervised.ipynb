{
  "nbformat": 4,
  "nbformat_minor": 0,
  "metadata": {
    "colab": {
      "provenance": [],
      "gpuType": "T4"
    },
    "kernelspec": {
      "name": "python3",
      "display_name": "Python 3"
    },
    "language_info": {
      "name": "python"
    },
    "accelerator": "GPU"
  },
  "cells": [
    {
      "cell_type": "code",
      "execution_count": null,
      "metadata": {
        "id": "VEw11SX8X8X_"
      },
      "outputs": [],
      "source": [
        "import pandas as pd\n",
        "import numpy as np\n",
        "import seaborn as sns\n",
        "import matplotlib.pyplot as plt"
      ]
    },
    {
      "cell_type": "code",
      "source": [
        "df = pd.read_csv('/content/drive/MyDrive/Battery_RUL.csv')\n",
        "df.head()"
      ],
      "metadata": {
        "colab": {
          "base_uri": "https://localhost:8080/",
          "height": 223
        },
        "id": "0gt_io1jYhto",
        "outputId": "c408addc-13b4-44f7-ddc2-2ef73e6a4cb7"
      },
      "execution_count": null,
      "outputs": [
        {
          "output_type": "execute_result",
          "data": {
            "text/plain": [
              "   Cycle_Index  Discharge Time (s)  Decrement 3.6-3.4V (s)  \\\n",
              "0          1.0             2595.30             1151.488500   \n",
              "1          2.0             7408.64             1172.512500   \n",
              "2          3.0             7393.76             1112.992000   \n",
              "3          4.0             7385.50             1080.320667   \n",
              "4          6.0            65022.75            29813.487000   \n",
              "\n",
              "   Max. Voltage Dischar. (V)  Min. Voltage Charg. (V)  Time at 4.15V (s)  \\\n",
              "0                      3.670                    3.211           5460.001   \n",
              "1                      4.246                    3.220           5508.992   \n",
              "2                      4.249                    3.224           5508.993   \n",
              "3                      4.250                    3.225           5502.016   \n",
              "4                      4.290                    3.398           5480.992   \n",
              "\n",
              "   Time constant current (s)  Charging time (s)   RUL  \n",
              "0                    6755.01           10777.82  1112  \n",
              "1                    6762.02           10500.35  1111  \n",
              "2                    6762.02           10420.38  1110  \n",
              "3                    6762.02           10322.81  1109  \n",
              "4                   53213.54           56699.65  1107  "
            ],
            "text/html": [
              "\n",
              "  <div id=\"df-54528d4b-df0c-4452-a0d7-6a8055deca6a\" class=\"colab-df-container\">\n",
              "    <div>\n",
              "<style scoped>\n",
              "    .dataframe tbody tr th:only-of-type {\n",
              "        vertical-align: middle;\n",
              "    }\n",
              "\n",
              "    .dataframe tbody tr th {\n",
              "        vertical-align: top;\n",
              "    }\n",
              "\n",
              "    .dataframe thead th {\n",
              "        text-align: right;\n",
              "    }\n",
              "</style>\n",
              "<table border=\"1\" class=\"dataframe\">\n",
              "  <thead>\n",
              "    <tr style=\"text-align: right;\">\n",
              "      <th></th>\n",
              "      <th>Cycle_Index</th>\n",
              "      <th>Discharge Time (s)</th>\n",
              "      <th>Decrement 3.6-3.4V (s)</th>\n",
              "      <th>Max. Voltage Dischar. (V)</th>\n",
              "      <th>Min. Voltage Charg. (V)</th>\n",
              "      <th>Time at 4.15V (s)</th>\n",
              "      <th>Time constant current (s)</th>\n",
              "      <th>Charging time (s)</th>\n",
              "      <th>RUL</th>\n",
              "    </tr>\n",
              "  </thead>\n",
              "  <tbody>\n",
              "    <tr>\n",
              "      <th>0</th>\n",
              "      <td>1.0</td>\n",
              "      <td>2595.30</td>\n",
              "      <td>1151.488500</td>\n",
              "      <td>3.670</td>\n",
              "      <td>3.211</td>\n",
              "      <td>5460.001</td>\n",
              "      <td>6755.01</td>\n",
              "      <td>10777.82</td>\n",
              "      <td>1112</td>\n",
              "    </tr>\n",
              "    <tr>\n",
              "      <th>1</th>\n",
              "      <td>2.0</td>\n",
              "      <td>7408.64</td>\n",
              "      <td>1172.512500</td>\n",
              "      <td>4.246</td>\n",
              "      <td>3.220</td>\n",
              "      <td>5508.992</td>\n",
              "      <td>6762.02</td>\n",
              "      <td>10500.35</td>\n",
              "      <td>1111</td>\n",
              "    </tr>\n",
              "    <tr>\n",
              "      <th>2</th>\n",
              "      <td>3.0</td>\n",
              "      <td>7393.76</td>\n",
              "      <td>1112.992000</td>\n",
              "      <td>4.249</td>\n",
              "      <td>3.224</td>\n",
              "      <td>5508.993</td>\n",
              "      <td>6762.02</td>\n",
              "      <td>10420.38</td>\n",
              "      <td>1110</td>\n",
              "    </tr>\n",
              "    <tr>\n",
              "      <th>3</th>\n",
              "      <td>4.0</td>\n",
              "      <td>7385.50</td>\n",
              "      <td>1080.320667</td>\n",
              "      <td>4.250</td>\n",
              "      <td>3.225</td>\n",
              "      <td>5502.016</td>\n",
              "      <td>6762.02</td>\n",
              "      <td>10322.81</td>\n",
              "      <td>1109</td>\n",
              "    </tr>\n",
              "    <tr>\n",
              "      <th>4</th>\n",
              "      <td>6.0</td>\n",
              "      <td>65022.75</td>\n",
              "      <td>29813.487000</td>\n",
              "      <td>4.290</td>\n",
              "      <td>3.398</td>\n",
              "      <td>5480.992</td>\n",
              "      <td>53213.54</td>\n",
              "      <td>56699.65</td>\n",
              "      <td>1107</td>\n",
              "    </tr>\n",
              "  </tbody>\n",
              "</table>\n",
              "</div>\n",
              "    <div class=\"colab-df-buttons\">\n",
              "\n",
              "  <div class=\"colab-df-container\">\n",
              "    <button class=\"colab-df-convert\" onclick=\"convertToInteractive('df-54528d4b-df0c-4452-a0d7-6a8055deca6a')\"\n",
              "            title=\"Convert this dataframe to an interactive table.\"\n",
              "            style=\"display:none;\">\n",
              "\n",
              "  <svg xmlns=\"http://www.w3.org/2000/svg\" height=\"24px\" viewBox=\"0 -960 960 960\">\n",
              "    <path d=\"M120-120v-720h720v720H120Zm60-500h600v-160H180v160Zm220 220h160v-160H400v160Zm0 220h160v-160H400v160ZM180-400h160v-160H180v160Zm440 0h160v-160H620v160ZM180-180h160v-160H180v160Zm440 0h160v-160H620v160Z\"/>\n",
              "  </svg>\n",
              "    </button>\n",
              "\n",
              "  <style>\n",
              "    .colab-df-container {\n",
              "      display:flex;\n",
              "      gap: 12px;\n",
              "    }\n",
              "\n",
              "    .colab-df-convert {\n",
              "      background-color: #E8F0FE;\n",
              "      border: none;\n",
              "      border-radius: 50%;\n",
              "      cursor: pointer;\n",
              "      display: none;\n",
              "      fill: #1967D2;\n",
              "      height: 32px;\n",
              "      padding: 0 0 0 0;\n",
              "      width: 32px;\n",
              "    }\n",
              "\n",
              "    .colab-df-convert:hover {\n",
              "      background-color: #E2EBFA;\n",
              "      box-shadow: 0px 1px 2px rgba(60, 64, 67, 0.3), 0px 1px 3px 1px rgba(60, 64, 67, 0.15);\n",
              "      fill: #174EA6;\n",
              "    }\n",
              "\n",
              "    .colab-df-buttons div {\n",
              "      margin-bottom: 4px;\n",
              "    }\n",
              "\n",
              "    [theme=dark] .colab-df-convert {\n",
              "      background-color: #3B4455;\n",
              "      fill: #D2E3FC;\n",
              "    }\n",
              "\n",
              "    [theme=dark] .colab-df-convert:hover {\n",
              "      background-color: #434B5C;\n",
              "      box-shadow: 0px 1px 3px 1px rgba(0, 0, 0, 0.15);\n",
              "      filter: drop-shadow(0px 1px 2px rgba(0, 0, 0, 0.3));\n",
              "      fill: #FFFFFF;\n",
              "    }\n",
              "  </style>\n",
              "\n",
              "    <script>\n",
              "      const buttonEl =\n",
              "        document.querySelector('#df-54528d4b-df0c-4452-a0d7-6a8055deca6a button.colab-df-convert');\n",
              "      buttonEl.style.display =\n",
              "        google.colab.kernel.accessAllowed ? 'block' : 'none';\n",
              "\n",
              "      async function convertToInteractive(key) {\n",
              "        const element = document.querySelector('#df-54528d4b-df0c-4452-a0d7-6a8055deca6a');\n",
              "        const dataTable =\n",
              "          await google.colab.kernel.invokeFunction('convertToInteractive',\n",
              "                                                    [key], {});\n",
              "        if (!dataTable) return;\n",
              "\n",
              "        const docLinkHtml = 'Like what you see? Visit the ' +\n",
              "          '<a target=\"_blank\" href=https://colab.research.google.com/notebooks/data_table.ipynb>data table notebook</a>'\n",
              "          + ' to learn more about interactive tables.';\n",
              "        element.innerHTML = '';\n",
              "        dataTable['output_type'] = 'display_data';\n",
              "        await google.colab.output.renderOutput(dataTable, element);\n",
              "        const docLink = document.createElement('div');\n",
              "        docLink.innerHTML = docLinkHtml;\n",
              "        element.appendChild(docLink);\n",
              "      }\n",
              "    </script>\n",
              "  </div>\n",
              "\n",
              "\n",
              "<div id=\"df-44e12810-ead6-4f3e-8dd3-6a4b089132f3\">\n",
              "  <button class=\"colab-df-quickchart\" onclick=\"quickchart('df-44e12810-ead6-4f3e-8dd3-6a4b089132f3')\"\n",
              "            title=\"Suggest charts\"\n",
              "            style=\"display:none;\">\n",
              "\n",
              "<svg xmlns=\"http://www.w3.org/2000/svg\" height=\"24px\"viewBox=\"0 0 24 24\"\n",
              "     width=\"24px\">\n",
              "    <g>\n",
              "        <path d=\"M19 3H5c-1.1 0-2 .9-2 2v14c0 1.1.9 2 2 2h14c1.1 0 2-.9 2-2V5c0-1.1-.9-2-2-2zM9 17H7v-7h2v7zm4 0h-2V7h2v10zm4 0h-2v-4h2v4z\"/>\n",
              "    </g>\n",
              "</svg>\n",
              "  </button>\n",
              "\n",
              "<style>\n",
              "  .colab-df-quickchart {\n",
              "      --bg-color: #E8F0FE;\n",
              "      --fill-color: #1967D2;\n",
              "      --hover-bg-color: #E2EBFA;\n",
              "      --hover-fill-color: #174EA6;\n",
              "      --disabled-fill-color: #AAA;\n",
              "      --disabled-bg-color: #DDD;\n",
              "  }\n",
              "\n",
              "  [theme=dark] .colab-df-quickchart {\n",
              "      --bg-color: #3B4455;\n",
              "      --fill-color: #D2E3FC;\n",
              "      --hover-bg-color: #434B5C;\n",
              "      --hover-fill-color: #FFFFFF;\n",
              "      --disabled-bg-color: #3B4455;\n",
              "      --disabled-fill-color: #666;\n",
              "  }\n",
              "\n",
              "  .colab-df-quickchart {\n",
              "    background-color: var(--bg-color);\n",
              "    border: none;\n",
              "    border-radius: 50%;\n",
              "    cursor: pointer;\n",
              "    display: none;\n",
              "    fill: var(--fill-color);\n",
              "    height: 32px;\n",
              "    padding: 0;\n",
              "    width: 32px;\n",
              "  }\n",
              "\n",
              "  .colab-df-quickchart:hover {\n",
              "    background-color: var(--hover-bg-color);\n",
              "    box-shadow: 0 1px 2px rgba(60, 64, 67, 0.3), 0 1px 3px 1px rgba(60, 64, 67, 0.15);\n",
              "    fill: var(--button-hover-fill-color);\n",
              "  }\n",
              "\n",
              "  .colab-df-quickchart-complete:disabled,\n",
              "  .colab-df-quickchart-complete:disabled:hover {\n",
              "    background-color: var(--disabled-bg-color);\n",
              "    fill: var(--disabled-fill-color);\n",
              "    box-shadow: none;\n",
              "  }\n",
              "\n",
              "  .colab-df-spinner {\n",
              "    border: 2px solid var(--fill-color);\n",
              "    border-color: transparent;\n",
              "    border-bottom-color: var(--fill-color);\n",
              "    animation:\n",
              "      spin 1s steps(1) infinite;\n",
              "  }\n",
              "\n",
              "  @keyframes spin {\n",
              "    0% {\n",
              "      border-color: transparent;\n",
              "      border-bottom-color: var(--fill-color);\n",
              "      border-left-color: var(--fill-color);\n",
              "    }\n",
              "    20% {\n",
              "      border-color: transparent;\n",
              "      border-left-color: var(--fill-color);\n",
              "      border-top-color: var(--fill-color);\n",
              "    }\n",
              "    30% {\n",
              "      border-color: transparent;\n",
              "      border-left-color: var(--fill-color);\n",
              "      border-top-color: var(--fill-color);\n",
              "      border-right-color: var(--fill-color);\n",
              "    }\n",
              "    40% {\n",
              "      border-color: transparent;\n",
              "      border-right-color: var(--fill-color);\n",
              "      border-top-color: var(--fill-color);\n",
              "    }\n",
              "    60% {\n",
              "      border-color: transparent;\n",
              "      border-right-color: var(--fill-color);\n",
              "    }\n",
              "    80% {\n",
              "      border-color: transparent;\n",
              "      border-right-color: var(--fill-color);\n",
              "      border-bottom-color: var(--fill-color);\n",
              "    }\n",
              "    90% {\n",
              "      border-color: transparent;\n",
              "      border-bottom-color: var(--fill-color);\n",
              "    }\n",
              "  }\n",
              "</style>\n",
              "\n",
              "  <script>\n",
              "    async function quickchart(key) {\n",
              "      const quickchartButtonEl =\n",
              "        document.querySelector('#' + key + ' button');\n",
              "      quickchartButtonEl.disabled = true;  // To prevent multiple clicks.\n",
              "      quickchartButtonEl.classList.add('colab-df-spinner');\n",
              "      try {\n",
              "        const charts = await google.colab.kernel.invokeFunction(\n",
              "            'suggestCharts', [key], {});\n",
              "      } catch (error) {\n",
              "        console.error('Error during call to suggestCharts:', error);\n",
              "      }\n",
              "      quickchartButtonEl.classList.remove('colab-df-spinner');\n",
              "      quickchartButtonEl.classList.add('colab-df-quickchart-complete');\n",
              "    }\n",
              "    (() => {\n",
              "      let quickchartButtonEl =\n",
              "        document.querySelector('#df-44e12810-ead6-4f3e-8dd3-6a4b089132f3 button');\n",
              "      quickchartButtonEl.style.display =\n",
              "        google.colab.kernel.accessAllowed ? 'block' : 'none';\n",
              "    })();\n",
              "  </script>\n",
              "</div>\n",
              "\n",
              "    </div>\n",
              "  </div>\n"
            ],
            "application/vnd.google.colaboratory.intrinsic+json": {
              "type": "dataframe",
              "variable_name": "df",
              "summary": "{\n  \"name\": \"df\",\n  \"rows\": 15064,\n  \"fields\": [\n    {\n      \"column\": \"Cycle_Index\",\n      \"properties\": {\n        \"dtype\": \"number\",\n        \"std\": 322.37848029250654,\n        \"min\": 1.0,\n        \"max\": 1134.0,\n        \"num_unique_values\": 1124,\n        \"samples\": [\n          796.0,\n          934.0,\n          763.0\n        ],\n        \"semantic_type\": \"\",\n        \"description\": \"\"\n      }\n    },\n    {\n      \"column\": \"Discharge Time (s)\",\n      \"properties\": {\n        \"dtype\": \"number\",\n        \"std\": 33144.01207679762,\n        \"min\": 8.69,\n        \"max\": 958320.37,\n        \"num_unique_values\": 10889,\n        \"samples\": [\n          1465.09,\n          1405.22,\n          1294.4\n        ],\n        \"semantic_type\": \"\",\n        \"description\": \"\"\n      }\n    },\n    {\n      \"column\": \"Decrement 3.6-3.4V (s)\",\n      \"properties\": {\n        \"dtype\": \"number\",\n        \"std\": 15039.589269330254,\n        \"min\": -397645.90800017817,\n        \"max\": 406703.7680001794,\n        \"num_unique_values\": 5068,\n        \"samples\": [\n          241.58823529444635,\n          634.3999999999069,\n          274.2272727265954\n        ],\n        \"semantic_type\": \"\",\n        \"description\": \"\"\n      }\n    },\n    {\n      \"column\": \"Max. Voltage Dischar. (V)\",\n      \"properties\": {\n        \"dtype\": \"number\",\n        \"std\": 0.09100338037537431,\n        \"min\": 3.043,\n        \"max\": 4.363,\n        \"num_unique_values\": 437,\n        \"samples\": [\n          4.253,\n          3.952,\n          3.776\n        ],\n        \"semantic_type\": \"\",\n        \"description\": \"\"\n      }\n    },\n    {\n      \"column\": \"Min. Voltage Charg. (V)\",\n      \"properties\": {\n        \"dtype\": \"number\",\n        \"std\": 0.12369479017201608,\n        \"min\": 3.022,\n        \"max\": 4.379,\n        \"num_unique_values\": 757,\n        \"samples\": [\n          3.602,\n          3.453,\n          3.654\n        ],\n        \"semantic_type\": \"\",\n        \"description\": \"\"\n      }\n    },\n    {\n      \"column\": \"Time at 4.15V (s)\",\n      \"properties\": {\n        \"dtype\": \"number\",\n        \"std\": 9129.552477123627,\n        \"min\": -113.58400001004338,\n        \"max\": 245101.117,\n        \"num_unique_values\": 11529,\n        \"samples\": [\n          5048.343999999808,\n          5188.311999999918,\n          4832.351999999955\n        ],\n        \"semantic_type\": \"\",\n        \"description\": \"\"\n      }\n    },\n    {\n      \"column\": \"Time constant current (s)\",\n      \"properties\": {\n        \"dtype\": \"number\",\n        \"std\": 25155.845202077886,\n        \"min\": 5.98,\n        \"max\": 880728.1,\n        \"num_unique_values\": 3148,\n        \"samples\": [\n          3860.22,\n          2348.28,\n          6140.36\n        ],\n        \"semantic_type\": \"\",\n        \"description\": \"\"\n      }\n    },\n    {\n      \"column\": \"Charging time (s)\",\n      \"properties\": {\n        \"dtype\": \"number\",\n        \"std\": 26415.35412093404,\n        \"min\": 5.98,\n        \"max\": 880728.1,\n        \"num_unique_values\": 11865,\n        \"samples\": [\n          8358.11,\n          8230.41,\n          7544.31\n        ],\n        \"semantic_type\": \"\",\n        \"description\": \"\"\n      }\n    },\n    {\n      \"column\": \"RUL\",\n      \"properties\": {\n        \"dtype\": \"number\",\n        \"std\": 322,\n        \"min\": 0,\n        \"max\": 1133,\n        \"num_unique_values\": 1133,\n        \"samples\": [\n          300,\n          177,\n          679\n        ],\n        \"semantic_type\": \"\",\n        \"description\": \"\"\n      }\n    }\n  ]\n}"
            }
          },
          "metadata": {},
          "execution_count": 98
        }
      ]
    },
    {
      "cell_type": "code",
      "source": [
        "df.dtypes"
      ],
      "metadata": {
        "colab": {
          "base_uri": "https://localhost:8080/"
        },
        "id": "55g-uOkVYszs",
        "outputId": "6a0bcef1-f165-4646-80d6-100b048f2eea"
      },
      "execution_count": null,
      "outputs": [
        {
          "output_type": "execute_result",
          "data": {
            "text/plain": [
              "Cycle_Index                  float64\n",
              "Discharge Time (s)           float64\n",
              "Decrement 3.6-3.4V (s)       float64\n",
              "Max. Voltage Dischar. (V)    float64\n",
              "Min. Voltage Charg. (V)      float64\n",
              "Time at 4.15V (s)            float64\n",
              "Time constant current (s)    float64\n",
              "Charging time (s)            float64\n",
              "RUL                            int64\n",
              "dtype: object"
            ]
          },
          "metadata": {},
          "execution_count": 99
        }
      ]
    },
    {
      "cell_type": "code",
      "source": [
        "plt.figure(figsize = (12, 8))\n",
        "sns.heatmap(df.corr(), annot = True)\n",
        "plt.show()"
      ],
      "metadata": {
        "colab": {
          "base_uri": "https://localhost:8080/",
          "height": 843
        },
        "id": "yAzizxulafQ_",
        "outputId": "d94fc8b0-9a45-435e-b522-308083065599"
      },
      "execution_count": null,
      "outputs": [
        {
          "output_type": "display_data",
          "data": {
            "text/plain": [
              "<Figure size 1200x800 with 2 Axes>"
            ],
            "image/png": "[encoded data removed]"
          },
          "metadata": {}
        }
      ]
    },
    {
      "cell_type": "code",
      "source": [
        "df.drop(['Cycle_Index', 'Discharge Time (s)', 'Decrement 3.6-3.4V (s)', 'Time constant current (s)', 'Charging time (s)'], axis=1, inplace=True)"
      ],
      "metadata": {
        "id": "xSdgR5M1ahdb"
      },
      "execution_count": null,
      "outputs": []
    },
    {
      "cell_type": "code",
      "source": [
        "X = df.drop(['RUL'], axis=1)\n",
        "y = df['RUL']"
      ],
      "metadata": {
        "id": "6vtTK8mzBCAd"
      },
      "execution_count": null,
      "outputs": []
    },
    {
      "cell_type": "code",
      "source": [
        "from sklearn.model_selection import train_test_split\n",
        "X_train, X_test, y_train, y_test = train_test_split(X, y, test_size=0.33, random_state=42, shuffle=True)"
      ],
      "metadata": {
        "id": "OAahJ0lW8Vc2"
      },
      "execution_count": null,
      "outputs": []
    },
    {
      "cell_type": "code",
      "source": [
        "def fit_transform(scaler, X, y):\n",
        "    X_scaled = scaler.fit_transform(X)\n",
        "    return X_scaled, y\n",
        "def transform(scaler, X, y):\n",
        "    X_scaled = scaler.transform(X)\n",
        "    return X_scaled, y"
      ],
      "metadata": {
        "id": "URbnZMOA8t81"
      },
      "execution_count": null,
      "outputs": []
    },
    {
      "cell_type": "code",
      "source": [
        "import time\n",
        "model_names = [\"Linear Regression\", \"SVM\", \"Decision Tree\", \"XGBoost\", \"AdaBoost\", \"Bagging Regressor\", \"LightGBM\"]\n",
        "rmse_test = []\n",
        "acc_train = []\n",
        "acc_test = []\n",
        "training_time = []"
      ],
      "metadata": {
        "id": "k8nRu5aqu2LM"
      },
      "execution_count": null,
      "outputs": []
    },
    {
      "cell_type": "markdown",
      "source": [
        "# Linear Regression Model"
      ],
      "metadata": {
        "id": "VzyN_kAnCVLd"
      }
    },
    {
      "cell_type": "code",
      "source": [
        "from sklearn.preprocessing import RobustScaler\n",
        "scaler = RobustScaler()\n",
        "X_train_scaled, y_train = fit_transform(scaler, X_train, y_train)\n",
        "X_test_scaled, y_test = transform(scaler, X_test, y_test)"
      ],
      "metadata": {
        "id": "-Qex0ORe-G4g"
      },
      "execution_count": null,
      "outputs": []
    },
    {
      "cell_type": "code",
      "source": [
        "from sklearn.metrics import mean_squared_error\n",
        "from sklearn.linear_model import LinearRegression\n",
        "start_time = time.time()\n",
        "model = LinearRegression()\n",
        "end_time = time.time()\n",
        "model.fit(X_train_scaled, y_train)\n",
        "acc = model.score(X_test_scaled, y_test)\n",
        "print(acc)\n",
        "training_time.append(end_time-start_time)\n",
        "acc_test.append(acc)"
      ],
      "metadata": {
        "colab": {
          "base_uri": "https://localhost:8080/"
        },
        "id": "dNLP3qEv-VTX",
        "outputId": "c2b2fe03-4106-49ea-a450-385dce735e70"
      },
      "execution_count": null,
      "outputs": [
        {
          "output_type": "stream",
          "name": "stdout",
          "text": [
            "0.7167993299340891\n"
          ]
        }
      ]
    },
    {
      "cell_type": "code",
      "source": [
        "acc2 = model.score(X_train_scaled, y_train)\n",
        "print(acc2)\n",
        "acc_train.append(acc2)"
      ],
      "metadata": {
        "colab": {
          "base_uri": "https://localhost:8080/"
        },
        "id": "wx84OfCS_d2k",
        "outputId": "2555c084-d8d1-49fb-b4a6-96f5acb68e6d"
      },
      "execution_count": null,
      "outputs": [
        {
          "output_type": "stream",
          "name": "stdout",
          "text": [
            "0.7421819944258525\n"
          ]
        }
      ]
    },
    {
      "cell_type": "code",
      "source": [
        "y_pred = model.predict(X_test_scaled)\n",
        "mse = np.sqrt(mean_squared_error(y_test, y_pred))\n",
        "print(mse)\n",
        "rmse_test.append(mse)"
      ],
      "metadata": {
        "colab": {
          "base_uri": "https://localhost:8080/"
        },
        "id": "Oo01prHyA9_a",
        "outputId": "3b9e5150-d1f8-4d72-a98f-02d872384b97"
      },
      "execution_count": null,
      "outputs": [
        {
          "output_type": "stream",
          "name": "stdout",
          "text": [
            "171.57508180930037\n"
          ]
        }
      ]
    },
    {
      "cell_type": "markdown",
      "source": [
        "# SVM"
      ],
      "metadata": {
        "id": "Fk8b51tsCioO"
      }
    },
    {
      "cell_type": "code",
      "source": [
        "from sklearn.svm import SVR\n",
        "model = SVR()\n",
        "start_time = time.time()\n",
        "model.fit(X_train_scaled, y_train)\n",
        "end_time = time.time()\n",
        "acc = model.score(X_test_scaled, y_test)\n",
        "print(acc)\n",
        "training_time.append(end_time-start_time)\n",
        "acc_test.append(acc)"
      ],
      "metadata": {
        "colab": {
          "base_uri": "https://localhost:8080/"
        },
        "id": "Y30B5OPMBN61",
        "outputId": "5e6d6d05-fbc4-4ab1-cb45-44b2e97bc22e"
      },
      "execution_count": null,
      "outputs": [
        {
          "output_type": "stream",
          "name": "stdout",
          "text": [
            "0.9176910619088745\n"
          ]
        }
      ]
    },
    {
      "cell_type": "code",
      "source": [
        "acc2 = model.score(X_train_scaled, y_train)\n",
        "print(acc2)\n",
        "acc_train.append(acc2)"
      ],
      "metadata": {
        "colab": {
          "base_uri": "https://localhost:8080/"
        },
        "id": "hogGLn7tC4n2",
        "outputId": "0f0908b2-e03c-4774-a63b-508ded9eab71"
      },
      "execution_count": null,
      "outputs": [
        {
          "output_type": "stream",
          "name": "stdout",
          "text": [
            "0.922722282061464\n"
          ]
        }
      ]
    },
    {
      "cell_type": "code",
      "source": [
        "y_pred = model.predict(X_test_scaled)\n",
        "mse = np.sqrt(mean_squared_error(y_test, y_pred))\n",
        "rmse_test.append(mse)"
      ],
      "metadata": {
        "id": "1hXFTDQPDico"
      },
      "execution_count": null,
      "outputs": []
    },
    {
      "cell_type": "markdown",
      "source": [
        "# Decision Tree"
      ],
      "metadata": {
        "id": "WWCvLyffD04A"
      }
    },
    {
      "cell_type": "code",
      "source": [
        "from sklearn.metrics import mean_squared_error\n",
        "from sklearn.tree import DecisionTreeRegressor\n",
        "start_time=time.time()\n",
        "model = DecisionTreeRegressor()\n",
        "end_time=time.time()\n",
        "model.fit(X_train_scaled, y_train)\n",
        "acc=model.score(X_test_scaled, y_test)\n",
        "print(acc)\n",
        "training_time.append(end_time-start_time)\n",
        "acc_test.append(acc)"
      ],
      "metadata": {
        "colab": {
          "base_uri": "https://localhost:8080/"
        },
        "id": "Y8JZ7_zPDqtI",
        "outputId": "a20fb8ea-79bd-4040-e1f2-56d670278329"
      },
      "execution_count": null,
      "outputs": [
        {
          "output_type": "stream",
          "name": "stdout",
          "text": [
            "0.9836137126843141\n"
          ]
        }
      ]
    },
    {
      "cell_type": "code",
      "source": [
        "acc2=model.score(X_train_scaled, y_train)\n",
        "print(acc2)\n",
        "acc_train.append(acc2)"
      ],
      "metadata": {
        "colab": {
          "base_uri": "https://localhost:8080/"
        },
        "id": "gp7e0y6sEQS5",
        "outputId": "bbc0e6c6-be7e-4b17-b0eb-7b765f32e3a4"
      },
      "execution_count": null,
      "outputs": [
        {
          "output_type": "stream",
          "name": "stdout",
          "text": [
            "0.9999856634984762\n"
          ]
        }
      ]
    },
    {
      "cell_type": "code",
      "source": [
        "y_pred = model.predict(X_test_scaled)\n",
        "mse=np.sqrt(mean_squared_error(y_test, y_pred))\n",
        "rmse_test.append(mse)"
      ],
      "metadata": {
        "id": "e2wmaBHzEqjs"
      },
      "execution_count": null,
      "outputs": []
    },
    {
      "cell_type": "markdown",
      "source": [
        "# XGBoost Regressor"
      ],
      "metadata": {
        "id": "P7_MOOyDE6c2"
      }
    },
    {
      "cell_type": "code",
      "source": [
        "from xgboost import XGBRegressor\n",
        "model = XGBRegressor()\n",
        "start_time=time.time()\n",
        "model.fit(X_train_scaled, y_train)\n",
        "end_time=time.time()\n",
        "acc=model.score(X_test_scaled, y_test)\n",
        "print(acc)\n",
        "training_time.append(end_time-start_time)\n",
        "acc_test.append(acc)"
      ],
      "metadata": {
        "id": "eEs6dND_E0xg",
        "colab": {
          "base_uri": "https://localhost:8080/"
        },
        "outputId": "08fe9710-4a8c-4f46-a5de-9184e263c1a8"
      },
      "execution_count": null,
      "outputs": [
        {
          "output_type": "stream",
          "name": "stdout",
          "text": [
            "0.9877696374402801\n"
          ]
        }
      ]
    },
    {
      "cell_type": "code",
      "source": [
        "acc2=model.score(X_train_scaled, y_train)\n",
        "print(acc2)\n",
        "acc_train.append(acc2)"
      ],
      "metadata": {
        "id": "Z26dFveuFPBB",
        "colab": {
          "base_uri": "https://localhost:8080/"
        },
        "outputId": "4270ff8c-58a2-4584-f017-1df978ddbe74"
      },
      "execution_count": null,
      "outputs": [
        {
          "output_type": "stream",
          "name": "stdout",
          "text": [
            "0.995701446233934\n"
          ]
        }
      ]
    },
    {
      "cell_type": "code",
      "source": [
        "y_pred = model.predict(X_test_scaled)\n",
        "mse=np.sqrt(mean_squared_error(y_test, y_pred))\n",
        "rmse_test.append(mse)"
      ],
      "metadata": {
        "id": "QOHA-eMRrhlu"
      },
      "execution_count": null,
      "outputs": []
    },
    {
      "cell_type": "markdown",
      "source": [
        "# AdaBoost Regressor"
      ],
      "metadata": {
        "id": "PG13P3K9rEjp"
      }
    },
    {
      "cell_type": "code",
      "source": [
        "from sklearn.ensemble import AdaBoostRegressor\n",
        "model = AdaBoostRegressor()\n",
        "start_time=time.time()\n",
        "model.fit(X_train_scaled, y_train)\n",
        "end_time=time.time()\n",
        "acc=model.score(X_test_scaled, y_test)\n",
        "print(acc)\n",
        "training_time.append(end_time-start_time)\n",
        "acc_test.append(acc)"
      ],
      "metadata": {
        "colab": {
          "base_uri": "https://localhost:8080/"
        },
        "id": "cZrwN9Q0q9OH",
        "outputId": "aa3cc479-2572-4208-e834-53d832bf6ca0"
      },
      "execution_count": null,
      "outputs": [
        {
          "output_type": "stream",
          "name": "stdout",
          "text": [
            "0.9494298883585444\n"
          ]
        }
      ]
    },
    {
      "cell_type": "code",
      "source": [
        "acc2=model.score(X_train_scaled, y_train)\n",
        "print(acc2)\n",
        "acc_train.append(acc2)"
      ],
      "metadata": {
        "colab": {
          "base_uri": "https://localhost:8080/"
        },
        "id": "r8irq93xrbA6",
        "outputId": "3b1a698f-f0b9-46cc-9581-15dc90a06716"
      },
      "execution_count": null,
      "outputs": [
        {
          "output_type": "stream",
          "name": "stdout",
          "text": [
            "0.9521868479944942\n"
          ]
        }
      ]
    },
    {
      "cell_type": "code",
      "source": [
        "y_pred = model.predict(X_test)\n",
        "mse=np.sqrt(mean_squared_error(y_test, y_pred))\n",
        "rmse_test.append(mse)"
      ],
      "metadata": {
        "colab": {
          "base_uri": "https://localhost:8080/"
        },
        "id": "njH-jBzxrxIi",
        "outputId": "38eed936-045e-4817-b8f9-0866cff701e6"
      },
      "execution_count": null,
      "outputs": [
        {
          "output_type": "stream",
          "name": "stderr",
          "text": [
            "/usr/local/lib/python3.10/dist-packages/sklearn/base.py:432: UserWarning: X has feature names, but AdaBoostRegressor was fitted without feature names\n",
            "  warnings.warn(\n"
          ]
        }
      ]
    },
    {
      "cell_type": "markdown",
      "source": [
        "# Bagging Regressor"
      ],
      "metadata": {
        "id": "P0Gfw6ChsR_2"
      }
    },
    {
      "cell_type": "code",
      "source": [
        "from sklearn.ensemble import BaggingRegressor\n",
        "model = BaggingRegressor()\n",
        "start_time=time.time()\n",
        "model.fit(X_train_scaled, y_train)\n",
        "end_time=time.time()\n",
        "acc=model.score(X_test_scaled, y_test)\n",
        "print(acc)\n",
        "training_time.append(end_time-start_time)\n",
        "acc_test.append(acc)"
      ],
      "metadata": {
        "colab": {
          "base_uri": "https://localhost:8080/"
        },
        "id": "yixDkuAqr7c-",
        "outputId": "a12ee5cf-eaa2-49d0-fd15-49d6950c541b"
      },
      "execution_count": null,
      "outputs": [
        {
          "output_type": "stream",
          "name": "stdout",
          "text": [
            "0.9883416199127214\n"
          ]
        }
      ]
    },
    {
      "cell_type": "code",
      "source": [
        "acc2=model.score(X_train_scaled, y_train)\n",
        "print(acc2)\n",
        "acc_train.append(acc2)"
      ],
      "metadata": {
        "colab": {
          "base_uri": "https://localhost:8080/"
        },
        "id": "eBoxX3sasey_",
        "outputId": "dbb63a40-4453-4d33-8c26-15789495ddcf"
      },
      "execution_count": null,
      "outputs": [
        {
          "output_type": "stream",
          "name": "stdout",
          "text": [
            "0.9982325333310854\n"
          ]
        }
      ]
    },
    {
      "cell_type": "code",
      "source": [
        "y_pred = model.predict(X_test)\n",
        "mse=np.sqrt(mean_squared_error(y_test, y_pred))\n",
        "rmse_test.append(mse)"
      ],
      "metadata": {
        "colab": {
          "base_uri": "https://localhost:8080/"
        },
        "id": "cedMPgJMskWl",
        "outputId": "69ac9a2f-bed9-4b59-a682-de02962f857b"
      },
      "execution_count": null,
      "outputs": [
        {
          "output_type": "stream",
          "name": "stderr",
          "text": [
            "/usr/local/lib/python3.10/dist-packages/sklearn/base.py:432: UserWarning: X has feature names, but BaggingRegressor was fitted without feature names\n",
            "  warnings.warn(\n"
          ]
        }
      ]
    },
    {
      "cell_type": "markdown",
      "source": [
        "# LightGBM"
      ],
      "metadata": {
        "id": "cAZiSy5h0ehN"
      }
    },
    {
      "cell_type": "code",
      "source": [
        "import lightgbm as lgb\n",
        "model = lgb.LGBMRegressor()\n",
        "start_time=time.time()\n",
        "model.fit(X_train_scaled, y_train)\n",
        "end_time=time.time()\n",
        "acc=model.score(X_test_scaled, y_test)\n",
        "print(acc)\n",
        "training_time.append(end_time-start_time)\n",
        "acc_test.append(acc)"
      ],
      "metadata": {
        "colab": {
          "base_uri": "https://localhost:8080/"
        },
        "id": "A5Tn-sEV0i-O",
        "outputId": "efcd68d7-071f-41f1-f905-c7e52afb0e02"
      },
      "execution_count": null,
      "outputs": [
        {
          "output_type": "stream",
          "name": "stdout",
          "text": [
            "[LightGBM] [Info] Auto-choosing col-wise multi-threading, the overhead of testing was 0.000283 seconds.\n",
            "You can set `force_col_wise=true` to remove the overhead.\n",
            "[LightGBM] [Info] Total Bins 765\n",
            "[LightGBM] [Info] Number of data points in the train set: 10092, number of used features: 3\n",
            "[LightGBM] [Info] Start training from score 556.635157\n",
            "0.9833701083508222\n"
          ]
        }
      ]
    },
    {
      "cell_type": "code",
      "source": [
        "acc2=model.score(X_train_scaled, y_train)\n",
        "print(acc2)\n",
        "acc_train.append(acc2)"
      ],
      "metadata": {
        "colab": {
          "base_uri": "https://localhost:8080/"
        },
        "id": "vN5I0NT-0vIU",
        "outputId": "968815b4-ec1e-4160-81a9-274c3baf54ee"
      },
      "execution_count": null,
      "outputs": [
        {
          "output_type": "stream",
          "name": "stdout",
          "text": [
            "0.988100103626795\n"
          ]
        }
      ]
    },
    {
      "cell_type": "code",
      "source": [
        "y_pred = model.predict(X_test)\n",
        "mse=np.sqrt(mean_squared_error(y_test, y_pred))\n",
        "rmse_test.append(mse)"
      ],
      "metadata": {
        "id": "L8ru2EAN0z6E"
      },
      "execution_count": null,
      "outputs": []
    },
    {
      "cell_type": "code",
      "source": [
        "data = {'Algorithm':model_names, 'Time':training_time, 'MSE':rmse_test, 'Train Acc':acc_train, 'Test Acc':acc_test}\n",
        "result = pd.DataFrame(data)"
      ],
      "metadata": {
        "id": "77eBZdhgstIi"
      },
      "execution_count": null,
      "outputs": []
    },
    {
      "cell_type": "code",
      "source": [
        "result.sort_values(by='Train Acc', ascending=False)"
      ],
      "metadata": {
        "colab": {
          "base_uri": "https://localhost:8080/",
          "height": 268
        },
        "id": "V203xGQ0tuNn",
        "outputId": "b48b5bcd-e6fd-456c-ecbe-bb2d6cb8879f"
      },
      "execution_count": null,
      "outputs": [
        {
          "output_type": "execute_result",
          "data": {
            "text/plain": [
              "           Algorithm      Time         MSE  Train Acc  Test Acc\n",
              "2      Decision Tree  0.000097   41.271225   0.999986  0.983614\n",
              "5  Bagging Regressor  0.217552  475.287466   0.998233  0.988342\n",
              "3            XGBoost  0.106099   35.655517   0.995701  0.987770\n",
              "6           LightGBM  0.087851  424.124868   0.988100  0.983370\n",
              "4           AdaBoost  0.355774  511.927531   0.952187  0.949430\n",
              "1                SVM  5.824670   92.497624   0.922722  0.917691\n",
              "0  Linear Regression  0.000050  171.575082   0.742182  0.716799"
            ],
            "text/html": [
              "\n",
              "  <div id=\"df-be768c54-f264-4b93-b183-fcfabbb96a8a\" class=\"colab-df-container\">\n",
              "    <div>\n",
              "<style scoped>\n",
              "    .dataframe tbody tr th:only-of-type {\n",
              "        vertical-align: middle;\n",
              "    }\n",
              "\n",
              "    .dataframe tbody tr th {\n",
              "        vertical-align: top;\n",
              "    }\n",
              "\n",
              "    .dataframe thead th {\n",
              "        text-align: right;\n",
              "    }\n",
              "</style>\n",
              "<table border=\"1\" class=\"dataframe\">\n",
              "  <thead>\n",
              "    <tr style=\"text-align: right;\">\n",
              "      <th></th>\n",
              "      <th>Algorithm</th>\n",
              "      <th>Time</th>\n",
              "      <th>MSE</th>\n",
              "      <th>Train Acc</th>\n",
              "      <th>Test Acc</th>\n",
              "    </tr>\n",
              "  </thead>\n",
              "  <tbody>\n",
              "    <tr>\n",
              "      <th>2</th>\n",
              "      <td>Decision Tree</td>\n",
              "      <td>0.000097</td>\n",
              "      <td>41.271225</td>\n",
              "      <td>0.999986</td>\n",
              "      <td>0.983614</td>\n",
              "    </tr>\n",
              "    <tr>\n",
              "      <th>5</th>\n",
              "      <td>Bagging Regressor</td>\n",
              "      <td>0.217552</td>\n",
              "      <td>475.287466</td>\n",
              "      <td>0.998233</td>\n",
              "      <td>0.988342</td>\n",
              "    </tr>\n",
              "    <tr>\n",
              "      <th>3</th>\n",
              "      <td>XGBoost</td>\n",
              "      <td>0.106099</td>\n",
              "      <td>35.655517</td>\n",
              "      <td>0.995701</td>\n",
              "      <td>0.987770</td>\n",
              "    </tr>\n",
              "    <tr>\n",
              "      <th>6</th>\n",
              "      <td>LightGBM</td>\n",
              "      <td>0.087851</td>\n",
              "      <td>424.124868</td>\n",
              "      <td>0.988100</td>\n",
              "      <td>0.983370</td>\n",
              "    </tr>\n",
              "    <tr>\n",
              "      <th>4</th>\n",
              "      <td>AdaBoost</td>\n",
              "      <td>0.355774</td>\n",
              "      <td>511.927531</td>\n",
              "      <td>0.952187</td>\n",
              "      <td>0.949430</td>\n",
              "    </tr>\n",
              "    <tr>\n",
              "      <th>1</th>\n",
              "      <td>SVM</td>\n",
              "      <td>5.824670</td>\n",
              "      <td>92.497624</td>\n",
              "      <td>0.922722</td>\n",
              "      <td>0.917691</td>\n",
              "    </tr>\n",
              "    <tr>\n",
              "      <th>0</th>\n",
              "      <td>Linear Regression</td>\n",
              "      <td>0.000050</td>\n",
              "      <td>171.575082</td>\n",
              "      <td>0.742182</td>\n",
              "      <td>0.716799</td>\n",
              "    </tr>\n",
              "  </tbody>\n",
              "</table>\n",
              "</div>\n",
              "    <div class=\"colab-df-buttons\">\n",
              "\n",
              "  <div class=\"colab-df-container\">\n",
              "    <button class=\"colab-df-convert\" onclick=\"convertToInteractive('df-be768c54-f264-4b93-b183-fcfabbb96a8a')\"\n",
              "            title=\"Convert this dataframe to an interactive table.\"\n",
              "            style=\"display:none;\">\n",
              "\n",
              "  <svg xmlns=\"http://www.w3.org/2000/svg\" height=\"24px\" viewBox=\"0 -960 960 960\">\n",
              "    <path d=\"M120-120v-720h720v720H120Zm60-500h600v-160H180v160Zm220 220h160v-160H400v160Zm0 220h160v-160H400v160ZM180-400h160v-160H180v160Zm440 0h160v-160H620v160ZM180-180h160v-160H180v160Zm440 0h160v-160H620v160Z\"/>\n",
              "  </svg>\n",
              "    </button>\n",
              "\n",
              "  <style>\n",
              "    .colab-df-container {\n",
              "      display:flex;\n",
              "      gap: 12px;\n",
              "    }\n",
              "\n",
              "    .colab-df-convert {\n",
              "      background-color: #E8F0FE;\n",
              "      border: none;\n",
              "      border-radius: 50%;\n",
              "      cursor: pointer;\n",
              "      display: none;\n",
              "      fill: #1967D2;\n",
              "      height: 32px;\n",
              "      padding: 0 0 0 0;\n",
              "      width: 32px;\n",
              "    }\n",
              "\n",
              "    .colab-df-convert:hover {\n",
              "      background-color: #E2EBFA;\n",
              "      box-shadow: 0px 1px 2px rgba(60, 64, 67, 0.3), 0px 1px 3px 1px rgba(60, 64, 67, 0.15);\n",
              "      fill: #174EA6;\n",
              "    }\n",
              "\n",
              "    .colab-df-buttons div {\n",
              "      margin-bottom: 4px;\n",
              "    }\n",
              "\n",
              "    [theme=dark] .colab-df-convert {\n",
              "      background-color: #3B4455;\n",
              "      fill: #D2E3FC;\n",
              "    }\n",
              "\n",
              "    [theme=dark] .colab-df-convert:hover {\n",
              "      background-color: #434B5C;\n",
              "      box-shadow: 0px 1px 3px 1px rgba(0, 0, 0, 0.15);\n",
              "      filter: drop-shadow(0px 1px 2px rgba(0, 0, 0, 0.3));\n",
              "      fill: #FFFFFF;\n",
              "    }\n",
              "  </style>\n",
              "\n",
              "    <script>\n",
              "      const buttonEl =\n",
              "        document.querySelector('#df-be768c54-f264-4b93-b183-fcfabbb96a8a button.colab-df-convert');\n",
              "      buttonEl.style.display =\n",
              "        google.colab.kernel.accessAllowed ? 'block' : 'none';\n",
              "\n",
              "      async function convertToInteractive(key) {\n",
              "        const element = document.querySelector('#df-be768c54-f264-4b93-b183-fcfabbb96a8a');\n",
              "        const dataTable =\n",
              "          await google.colab.kernel.invokeFunction('convertToInteractive',\n",
              "                                                    [key], {});\n",
              "        if (!dataTable) return;\n",
              "\n",
              "        const docLinkHtml = 'Like what you see? Visit the ' +\n",
              "          '<a target=\"_blank\" href=https://colab.research.google.com/notebooks/data_table.ipynb>data table notebook</a>'\n",
              "          + ' to learn more about interactive tables.';\n",
              "        element.innerHTML = '';\n",
              "        dataTable['output_type'] = 'display_data';\n",
              "        await google.colab.output.renderOutput(dataTable, element);\n",
              "        const docLink = document.createElement('div');\n",
              "        docLink.innerHTML = docLinkHtml;\n",
              "        element.appendChild(docLink);\n",
              "      }\n",
              "    </script>\n",
              "  </div>\n",
              "\n",
              "\n",
              "<div id=\"df-269fa8cc-eded-4934-a05e-34bb5e77f96c\">\n",
              "  <button class=\"colab-df-quickchart\" onclick=\"quickchart('df-269fa8cc-eded-4934-a05e-34bb5e77f96c')\"\n",
              "            title=\"Suggest charts\"\n",
              "            style=\"display:none;\">\n",
              "\n",
              "<svg xmlns=\"http://www.w3.org/2000/svg\" height=\"24px\"viewBox=\"0 0 24 24\"\n",
              "     width=\"24px\">\n",
              "    <g>\n",
              "        <path d=\"M19 3H5c-1.1 0-2 .9-2 2v14c0 1.1.9 2 2 2h14c1.1 0 2-.9 2-2V5c0-1.1-.9-2-2-2zM9 17H7v-7h2v7zm4 0h-2V7h2v10zm4 0h-2v-4h2v4z\"/>\n",
              "    </g>\n",
              "</svg>\n",
              "  </button>\n",
              "\n",
              "<style>\n",
              "  .colab-df-quickchart {\n",
              "      --bg-color: #E8F0FE;\n",
              "      --fill-color: #1967D2;\n",
              "      --hover-bg-color: #E2EBFA;\n",
              "      --hover-fill-color: #174EA6;\n",
              "      --disabled-fill-color: #AAA;\n",
              "      --disabled-bg-color: #DDD;\n",
              "  }\n",
              "\n",
              "  [theme=dark] .colab-df-quickchart {\n",
              "      --bg-color: #3B4455;\n",
              "      --fill-color: #D2E3FC;\n",
              "      --hover-bg-color: #434B5C;\n",
              "      --hover-fill-color: #FFFFFF;\n",
              "      --disabled-bg-color: #3B4455;\n",
              "      --disabled-fill-color: #666;\n",
              "  }\n",
              "\n",
              "  .colab-df-quickchart {\n",
              "    background-color: var(--bg-color);\n",
              "    border: none;\n",
              "    border-radius: 50%;\n",
              "    cursor: pointer;\n",
              "    display: none;\n",
              "    fill: var(--fill-color);\n",
              "    height: 32px;\n",
              "    padding: 0;\n",
              "    width: 32px;\n",
              "  }\n",
              "\n",
              "  .colab-df-quickchart:hover {\n",
              "    background-color: var(--hover-bg-color);\n",
              "    box-shadow: 0 1px 2px rgba(60, 64, 67, 0.3), 0 1px 3px 1px rgba(60, 64, 67, 0.15);\n",
              "    fill: var(--button-hover-fill-color);\n",
              "  }\n",
              "\n",
              "  .colab-df-quickchart-complete:disabled,\n",
              "  .colab-df-quickchart-complete:disabled:hover {\n",
              "    background-color: var(--disabled-bg-color);\n",
              "    fill: var(--disabled-fill-color);\n",
              "    box-shadow: none;\n",
              "  }\n",
              "\n",
              "  .colab-df-spinner {\n",
              "    border: 2px solid var(--fill-color);\n",
              "    border-color: transparent;\n",
              "    border-bottom-color: var(--fill-color);\n",
              "    animation:\n",
              "      spin 1s steps(1) infinite;\n",
              "  }\n",
              "\n",
              "  @keyframes spin {\n",
              "    0% {\n",
              "      border-color: transparent;\n",
              "      border-bottom-color: var(--fill-color);\n",
              "      border-left-color: var(--fill-color);\n",
              "    }\n",
              "    20% {\n",
              "      border-color: transparent;\n",
              "      border-left-color: var(--fill-color);\n",
              "      border-top-color: var(--fill-color);\n",
              "    }\n",
              "    30% {\n",
              "      border-color: transparent;\n",
              "      border-left-color: var(--fill-color);\n",
              "      border-top-color: var(--fill-color);\n",
              "      border-right-color: var(--fill-color);\n",
              "    }\n",
              "    40% {\n",
              "      border-color: transparent;\n",
              "      border-right-color: var(--fill-color);\n",
              "      border-top-color: var(--fill-color);\n",
              "    }\n",
              "    60% {\n",
              "      border-color: transparent;\n",
              "      border-right-color: var(--fill-color);\n",
              "    }\n",
              "    80% {\n",
              "      border-color: transparent;\n",
              "      border-right-color: var(--fill-color);\n",
              "      border-bottom-color: var(--fill-color);\n",
              "    }\n",
              "    90% {\n",
              "      border-color: transparent;\n",
              "      border-bottom-color: var(--fill-color);\n",
              "    }\n",
              "  }\n",
              "</style>\n",
              "\n",
              "  <script>\n",
              "    async function quickchart(key) {\n",
              "      const quickchartButtonEl =\n",
              "        document.querySelector('#' + key + ' button');\n",
              "      quickchartButtonEl.disabled = true;  // To prevent multiple clicks.\n",
              "      quickchartButtonEl.classList.add('colab-df-spinner');\n",
              "      try {\n",
              "        const charts = await google.colab.kernel.invokeFunction(\n",
              "            'suggestCharts', [key], {});\n",
              "      } catch (error) {\n",
              "        console.error('Error during call to suggestCharts:', error);\n",
              "      }\n",
              "      quickchartButtonEl.classList.remove('colab-df-spinner');\n",
              "      quickchartButtonEl.classList.add('colab-df-quickchart-complete');\n",
              "    }\n",
              "    (() => {\n",
              "      let quickchartButtonEl =\n",
              "        document.querySelector('#df-269fa8cc-eded-4934-a05e-34bb5e77f96c button');\n",
              "      quickchartButtonEl.style.display =\n",
              "        google.colab.kernel.accessAllowed ? 'block' : 'none';\n",
              "    })();\n",
              "  </script>\n",
              "</div>\n",
              "\n",
              "    </div>\n",
              "  </div>\n"
            ],
            "application/vnd.google.colaboratory.intrinsic+json": {
              "type": "dataframe",
              "summary": "{\n  \"name\": \"result\",\n  \"rows\": 7,\n  \"fields\": [\n    {\n      \"column\": \"Algorithm\",\n      \"properties\": {\n        \"dtype\": \"string\",\n        \"num_unique_values\": 7,\n        \"samples\": [\n          \"Decision Tree\",\n          \"Bagging Regressor\",\n          \"SVM\"\n        ],\n        \"semantic_type\": \"\",\n        \"description\": \"\"\n      }\n    },\n    {\n      \"column\": \"Time\",\n      \"properties\": {\n        \"dtype\": \"number\",\n        \"std\": 2.1568379318282793,\n        \"min\": 5.0067901611328125e-05,\n        \"max\": 5.824669599533081,\n        \"num_unique_values\": 7,\n        \"samples\": [\n          9.72747802734375e-05,\n          0.21755170822143555,\n          5.824669599533081\n        ],\n        \"semantic_type\": \"\",\n        \"description\": \"\"\n      }\n    },\n    {\n      \"column\": \"MSE\",\n      \"properties\": {\n        \"dtype\": \"number\",\n        \"std\": 212.19012192030087,\n        \"min\": 35.655517335677125,\n        \"max\": 511.92753142449027,\n        \"num_unique_values\": 7,\n        \"samples\": [\n          41.271224944836625,\n          475.2874658806502,\n          92.49762369985459\n        ],\n        \"semantic_type\": \"\",\n        \"description\": \"\"\n      }\n    },\n    {\n      \"column\": \"Train Acc\",\n      \"properties\": {\n        \"dtype\": \"number\",\n        \"std\": 0.0930344075407933,\n        \"min\": 0.7421819944258525,\n        \"max\": 0.9999856634984762,\n        \"num_unique_values\": 7,\n        \"samples\": [\n          0.9999856634984762,\n          0.9982325333310854,\n          0.922722282061464\n        ],\n        \"semantic_type\": \"\",\n        \"description\": \"\"\n      }\n    },\n    {\n      \"column\": \"Test Acc\",\n      \"properties\": {\n        \"dtype\": \"number\",\n        \"std\": 0.09866278441021453,\n        \"min\": 0.7167993299340891,\n        \"max\": 0.9883416199127214,\n        \"num_unique_values\": 7,\n        \"samples\": [\n          0.9836137126843141,\n          0.9883416199127214,\n          0.9176910619088745\n        ],\n        \"semantic_type\": \"\",\n        \"description\": \"\"\n      }\n    }\n  ]\n}"
            }
          },
          "metadata": {},
          "execution_count": 130
        }
      ]
    },
    {
      "cell_type": "code",
      "source": [],
      "metadata": {
        "id": "wQ8_uZ2EzVt0"
      },
      "execution_count": null,
      "outputs": []
    }
  ]
}