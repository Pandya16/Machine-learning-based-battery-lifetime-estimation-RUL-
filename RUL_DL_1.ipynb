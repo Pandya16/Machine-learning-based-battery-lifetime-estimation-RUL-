{
  "nbformat": 4,
  "nbformat_minor": 0,
  "metadata": {
    "colab": {
      "provenance": []
    },
    "kernelspec": {
      "name": "python3",
      "display_name": "Python 3"
    },
    "language_info": {
      "name": "python"
    }
  },
  "cells": [
    {
      "cell_type": "code",
      "execution_count": 1,
      "metadata": {
        "id": "4YbxZDiUZqaR"
      },
      "outputs": [],
      "source": [
        "import pandas as pd\n",
        "import numpy as np\n",
        "import matplotlib.pyplot as plt\n",
        "import seaborn as sns\n",
        "import tensorflow as tf\n",
        "from tensorflow import keras"
      ]
    },
    {
      "cell_type": "code",
      "source": [
        "df = pd.read_csv('/content/drive/MyDrive/Battery_RUL.csv')"
      ],
      "metadata": {
        "id": "3cChY1OeZ4wW"
      },
      "execution_count": 2,
      "outputs": []
    },
    {
      "cell_type": "code",
      "source": [
        "df.dtypes"
      ],
      "metadata": {
        "colab": {
          "base_uri": "https://localhost:8080/"
        },
        "id": "-0Gcl4rIaNqI",
        "outputId": "8bd07394-edb9-4829-8c9a-6beb33bc0a51"
      },
      "execution_count": 3,
      "outputs": [
        {
          "output_type": "execute_result",
          "data": {
            "text/plain": [
              "Cycle_Index                  float64\n",
              "Discharge Time (s)           float64\n",
              "Decrement 3.6-3.4V (s)       float64\n",
              "Max. Voltage Dischar. (V)    float64\n",
              "Min. Voltage Charg. (V)      float64\n",
              "Time at 4.15V (s)            float64\n",
              "Time constant current (s)    float64\n",
              "Charging time (s)            float64\n",
              "RUL                            int64\n",
              "dtype: object"
            ]
          },
          "metadata": {},
          "execution_count": 3
        }
      ]
    },
    {
      "cell_type": "code",
      "source": [
        "df.drop(['Cycle_Index', 'Discharge Time (s)', 'Decrement 3.6-3.4V (s)', 'Time constant current (s)', 'Charging time (s)'], axis=1, inplace=True)"
      ],
      "metadata": {
        "id": "p5mkmNjKaZMb"
      },
      "execution_count": 4,
      "outputs": []
    },
    {
      "cell_type": "code",
      "source": [
        "X = df.drop(['RUL'], axis=1)\n",
        "y = df['RUL']\n",
        "from sklearn.model_selection import train_test_split\n",
        "X_train, X_test, y_train, y_test = train_test_split(X, y, test_size=0.3, random_state=42, shuffle=True)"
      ],
      "metadata": {
        "id": "VQM_m-5ha2B0"
      },
      "execution_count": 5,
      "outputs": []
    },
    {
      "cell_type": "code",
      "source": [
        "class Pipeline:\n",
        "  def __init__(self, scaler):\n",
        "    self.scaler = scaler\n",
        "  def fit(self, X, y):\n",
        "    X = self.scaler.fit_transform(X, y)\n",
        "    return X, y\n",
        "  def transform(self, X, y):\n",
        "    X = self.scaler.transform(X)\n",
        "    return X, y"
      ],
      "metadata": {
        "id": "sFx79__9bQip"
      },
      "execution_count": 6,
      "outputs": []
    },
    {
      "cell_type": "code",
      "source": [
        "from sklearn.preprocessing import RobustScaler\n",
        "scaler = RobustScaler()\n",
        "pipeline = Pipeline(scaler)\n",
        "X_train, y_train = pipeline.fit(X_train, y_train)\n",
        "X_test, y_test = pipeline.transform(X_test, y_test)"
      ],
      "metadata": {
        "id": "B49hscb3b930"
      },
      "execution_count": 7,
      "outputs": []
    },
    {
      "cell_type": "markdown",
      "source": [
        "# Self Neuralizing Neural Network"
      ],
      "metadata": {
        "id": "bXwG2StbiKyx"
      }
    },
    {
      "cell_type": "code",
      "source": [
        "from tensorflow.keras import backend as K\n",
        "\n",
        "def rmse(y_true, y_pred):\n",
        "    y_true = K.cast(y_true, 'float32')\n",
        "    return K.sqrt(K.mean(K.square(y_pred - y_true)))"
      ],
      "metadata": {
        "id": "QiOIuXPVg6-A"
      },
      "execution_count": 11,
      "outputs": []
    },
    {
      "cell_type": "code",
      "source": [
        "from tensorflow.keras.initializers import lecun_normal\n",
        "from tensorflow.keras.regularizers import l2\n",
        "\n",
        "model = keras.Sequential([\n",
        "    keras.layers.Dense(16, input_shape=(3,), activation='selu', kernel_initializer=lecun_normal(), kernel_regularizer=l2(0.01)),\n",
        "    keras.layers.Dense(8, activation='selu', kernel_initializer=lecun_normal(), kernel_regularizer=l2(0.01)),\n",
        "    keras.layers.Dense(1)\n",
        "])\n",
        "model.compile(optimizer='adam',\n",
        "              loss='mean_squared_error',\n",
        "              metrics=[rmse])\n",
        "model.fit(X_train, y_train, epochs=50, validation_split=0.2)"
      ],
      "metadata": {
        "colab": {
          "base_uri": "https://localhost:8080/"
        },
        "id": "EErGffkAcZ_G",
        "outputId": "2e80ff4a-d9d3-4f5c-ef33-47bf8aa0557c"
      },
      "execution_count": 12,
      "outputs": [
        {
          "output_type": "stream",
          "name": "stdout",
          "text": [
            "Epoch 1/50\n",
            "\u001b[1m264/264\u001b[0m \u001b[32m━━━━━━━━━━━━━━━━━━━━\u001b[0m\u001b[37m\u001b[0m \u001b[1m2s\u001b[0m 3ms/step - loss: 412704.6250 - rmse: 640.8116 - val_loss: 395087.4688 - val_rmse: 627.2278\n",
            "Epoch 2/50\n",
            "\u001b[1m264/264\u001b[0m \u001b[32m━━━━━━━━━━━━━━━━━━━━\u001b[0m\u001b[37m\u001b[0m \u001b[1m1s\u001b[0m 2ms/step - loss: 392598.7188 - rmse: 624.5948 - val_loss: 361929.6562 - val_rmse: 600.3038\n",
            "Epoch 3/50\n",
            "\u001b[1m264/264\u001b[0m \u001b[32m━━━━━━━━━━━━━━━━━━━━\u001b[0m\u001b[37m\u001b[0m \u001b[1m1s\u001b[0m 2ms/step - loss: 358318.3125 - rmse: 596.4568 - val_loss: 301036.6250 - val_rmse: 547.4417\n",
            "Epoch 4/50\n",
            "\u001b[1m264/264\u001b[0m \u001b[32m━━━━━━━━━━━━━━━━━━━━\u001b[0m\u001b[37m\u001b[0m \u001b[1m1s\u001b[0m 3ms/step - loss: 288688.1875 - rmse: 535.2922 - val_loss: 224814.4219 - val_rmse: 472.8263\n",
            "Epoch 5/50\n",
            "\u001b[1m264/264\u001b[0m \u001b[32m━━━━━━━━━━━━━━━━━━━━\u001b[0m\u001b[37m\u001b[0m \u001b[1m1s\u001b[0m 3ms/step - loss: 205084.2344 - rmse: 450.9012 - val_loss: 144739.2656 - val_rmse: 379.2164\n",
            "Epoch 6/50\n",
            "\u001b[1m264/264\u001b[0m \u001b[32m━━━━━━━━━━━━━━━━━━━━\u001b[0m\u001b[37m\u001b[0m \u001b[1m1s\u001b[0m 3ms/step - loss: 126339.0234 - rmse: 353.2867 - val_loss: 78050.7656 - val_rmse: 277.7756\n",
            "Epoch 7/50\n",
            "\u001b[1m264/264\u001b[0m \u001b[32m━━━━━━━━━━━━━━━━━━━━\u001b[0m\u001b[37m\u001b[0m \u001b[1m1s\u001b[0m 2ms/step - loss: 64082.6055 - rmse: 250.9113 - val_loss: 38925.2891 - val_rmse: 194.1157\n",
            "Epoch 8/50\n",
            "\u001b[1m264/264\u001b[0m \u001b[32m━━━━━━━━━━━━━━━━━━━━\u001b[0m\u001b[37m\u001b[0m \u001b[1m1s\u001b[0m 2ms/step - loss: 29348.6211 - rmse: 168.3152 - val_loss: 23486.8672 - val_rmse: 146.9374\n",
            "Epoch 9/50\n",
            "\u001b[1m264/264\u001b[0m \u001b[32m━━━━━━━━━━━━━━━━━━━━\u001b[0m\u001b[37m\u001b[0m \u001b[1m1s\u001b[0m 2ms/step - loss: 17430.3047 - rmse: 126.8686 - val_loss: 19060.6055 - val_rmse: 130.2437\n",
            "Epoch 10/50\n",
            "\u001b[1m264/264\u001b[0m \u001b[32m━━━━━━━━━━━━━━━━━━━━\u001b[0m\u001b[37m\u001b[0m \u001b[1m1s\u001b[0m 2ms/step - loss: 15732.8994 - rmse: 118.2345 - val_loss: 17563.0547 - val_rmse: 123.4611\n",
            "Epoch 11/50\n",
            "\u001b[1m264/264\u001b[0m \u001b[32m━━━━━━━━━━━━━━━━━━━━\u001b[0m\u001b[37m\u001b[0m \u001b[1m1s\u001b[0m 2ms/step - loss: 12950.2051 - rmse: 106.8604 - val_loss: 16500.0137 - val_rmse: 120.9184\n",
            "Epoch 12/50\n",
            "\u001b[1m264/264\u001b[0m \u001b[32m━━━━━━━━━━━━━━━━━━━━\u001b[0m\u001b[37m\u001b[0m \u001b[1m1s\u001b[0m 2ms/step - loss: 11704.0352 - rmse: 102.5348 - val_loss: 15613.3633 - val_rmse: 117.7924\n",
            "Epoch 13/50\n",
            "\u001b[1m264/264\u001b[0m \u001b[32m━━━━━━━━━━━━━━━━━━━━\u001b[0m\u001b[37m\u001b[0m \u001b[1m1s\u001b[0m 2ms/step - loss: 11260.1416 - rmse: 101.2661 - val_loss: 15040.5449 - val_rmse: 115.4738\n",
            "Epoch 14/50\n",
            "\u001b[1m264/264\u001b[0m \u001b[32m━━━━━━━━━━━━━━━━━━━━\u001b[0m\u001b[37m\u001b[0m \u001b[1m1s\u001b[0m 2ms/step - loss: 11405.1387 - rmse: 101.4751 - val_loss: 14552.2217 - val_rmse: 113.5920\n",
            "Epoch 15/50\n",
            "\u001b[1m264/264\u001b[0m \u001b[32m━━━━━━━━━━━━━━━━━━━━\u001b[0m\u001b[37m\u001b[0m \u001b[1m1s\u001b[0m 2ms/step - loss: 10527.3857 - rmse: 97.9812 - val_loss: 14110.5742 - val_rmse: 111.7084\n",
            "Epoch 16/50\n",
            "\u001b[1m264/264\u001b[0m \u001b[32m━━━━━━━━━━━━━━━━━━━━\u001b[0m\u001b[37m\u001b[0m \u001b[1m1s\u001b[0m 2ms/step - loss: 10415.9121 - rmse: 96.9520 - val_loss: 13699.1211 - val_rmse: 109.9449\n",
            "Epoch 17/50\n",
            "\u001b[1m264/264\u001b[0m \u001b[32m━━━━━━━━━━━━━━━━━━━━\u001b[0m\u001b[37m\u001b[0m \u001b[1m1s\u001b[0m 2ms/step - loss: 9514.7822 - rmse: 93.1990 - val_loss: 13499.3984 - val_rmse: 108.9951\n",
            "Epoch 18/50\n",
            "\u001b[1m264/264\u001b[0m \u001b[32m━━━━━━━━━━━━━━━━━━━━\u001b[0m\u001b[37m\u001b[0m \u001b[1m1s\u001b[0m 2ms/step - loss: 9092.3867 - rmse: 90.4500 - val_loss: 13053.9971 - val_rmse: 107.0882\n",
            "Epoch 19/50\n",
            "\u001b[1m264/264\u001b[0m \u001b[32m━━━━━━━━━━━━━━━━━━━━\u001b[0m\u001b[37m\u001b[0m \u001b[1m1s\u001b[0m 2ms/step - loss: 9748.5156 - rmse: 93.2736 - val_loss: 12453.1650 - val_rmse: 104.5358\n",
            "Epoch 20/50\n",
            "\u001b[1m264/264\u001b[0m \u001b[32m━━━━━━━━━━━━━━━━━━━━\u001b[0m\u001b[37m\u001b[0m \u001b[1m1s\u001b[0m 2ms/step - loss: 9173.7598 - rmse: 90.7990 - val_loss: 12168.7744 - val_rmse: 103.2281\n",
            "Epoch 21/50\n",
            "\u001b[1m264/264\u001b[0m \u001b[32m━━━━━━━━━━━━━━━━━━━━\u001b[0m\u001b[37m\u001b[0m \u001b[1m1s\u001b[0m 2ms/step - loss: 8809.4131 - rmse: 88.6168 - val_loss: 11776.8955 - val_rmse: 101.4407\n",
            "Epoch 22/50\n",
            "\u001b[1m264/264\u001b[0m \u001b[32m━━━━━━━━━━━━━━━━━━━━\u001b[0m\u001b[37m\u001b[0m \u001b[1m1s\u001b[0m 2ms/step - loss: 8396.2783 - rmse: 87.1463 - val_loss: 11461.3008 - val_rmse: 99.8658\n",
            "Epoch 23/50\n",
            "\u001b[1m264/264\u001b[0m \u001b[32m━━━━━━━━━━━━━━━━━━━━\u001b[0m\u001b[37m\u001b[0m \u001b[1m1s\u001b[0m 3ms/step - loss: 8291.5605 - rmse: 85.6876 - val_loss: 11111.0820 - val_rmse: 98.0503\n",
            "Epoch 24/50\n",
            "\u001b[1m264/264\u001b[0m \u001b[32m━━━━━━━━━━━━━━━━━━━━\u001b[0m\u001b[37m\u001b[0m \u001b[1m1s\u001b[0m 3ms/step - loss: 8004.1816 - rmse: 84.2858 - val_loss: 10866.8008 - val_rmse: 96.6345\n",
            "Epoch 25/50\n",
            "\u001b[1m264/264\u001b[0m \u001b[32m━━━━━━━━━━━━━━━━━━━━\u001b[0m\u001b[37m\u001b[0m \u001b[1m1s\u001b[0m 3ms/step - loss: 7539.5454 - rmse: 81.4797 - val_loss: 10588.7607 - val_rmse: 94.9637\n",
            "Epoch 26/50\n",
            "\u001b[1m264/264\u001b[0m \u001b[32m━━━━━━━━━━━━━━━━━━━━\u001b[0m\u001b[37m\u001b[0m \u001b[1m1s\u001b[0m 3ms/step - loss: 6865.3008 - rmse: 78.0193 - val_loss: 10288.7607 - val_rmse: 93.1574\n",
            "Epoch 27/50\n",
            "\u001b[1m264/264\u001b[0m \u001b[32m━━━━━━━━━━━━━━━━━━━━\u001b[0m\u001b[37m\u001b[0m \u001b[1m1s\u001b[0m 2ms/step - loss: 7573.1929 - rmse: 80.9594 - val_loss: 10138.4668 - val_rmse: 91.9462\n",
            "Epoch 28/50\n",
            "\u001b[1m264/264\u001b[0m \u001b[32m━━━━━━━━━━━━━━━━━━━━\u001b[0m\u001b[37m\u001b[0m \u001b[1m1s\u001b[0m 2ms/step - loss: 6395.7319 - rmse: 75.6220 - val_loss: 9868.0938 - val_rmse: 90.3265\n",
            "Epoch 29/50\n",
            "\u001b[1m264/264\u001b[0m \u001b[32m━━━━━━━━━━━━━━━━━━━━\u001b[0m\u001b[37m\u001b[0m \u001b[1m1s\u001b[0m 2ms/step - loss: 6625.3438 - rmse: 75.7187 - val_loss: 9685.3076 - val_rmse: 89.0370\n",
            "Epoch 30/50\n",
            "\u001b[1m264/264\u001b[0m \u001b[32m━━━━━━━━━━━━━━━━━━━━\u001b[0m\u001b[37m\u001b[0m \u001b[1m1s\u001b[0m 2ms/step - loss: 5659.5527 - rmse: 71.2843 - val_loss: 9528.1260 - val_rmse: 88.0133\n",
            "Epoch 31/50\n",
            "\u001b[1m264/264\u001b[0m \u001b[32m━━━━━━━━━━━━━━━━━━━━\u001b[0m\u001b[37m\u001b[0m \u001b[1m0s\u001b[0m 2ms/step - loss: 6125.3306 - rmse: 73.3390 - val_loss: 9348.8926 - val_rmse: 86.8634\n",
            "Epoch 32/50\n",
            "\u001b[1m264/264\u001b[0m \u001b[32m━━━━━━━━━━━━━━━━━━━━\u001b[0m\u001b[37m\u001b[0m \u001b[1m0s\u001b[0m 2ms/step - loss: 5597.9858 - rmse: 70.2820 - val_loss: 9195.1240 - val_rmse: 85.8930\n",
            "Epoch 33/50\n",
            "\u001b[1m264/264\u001b[0m \u001b[32m━━━━━━━━━━━━━━━━━━━━\u001b[0m\u001b[37m\u001b[0m \u001b[1m1s\u001b[0m 2ms/step - loss: 6124.6084 - rmse: 72.8582 - val_loss: 9187.0000 - val_rmse: 85.5162\n",
            "Epoch 34/50\n",
            "\u001b[1m264/264\u001b[0m \u001b[32m━━━━━━━━━━━━━━━━━━━━\u001b[0m\u001b[37m\u001b[0m \u001b[1m1s\u001b[0m 2ms/step - loss: 5484.1460 - rmse: 69.2641 - val_loss: 8909.0000 - val_rmse: 84.2608\n",
            "Epoch 35/50\n",
            "\u001b[1m264/264\u001b[0m \u001b[32m━━━━━━━━━━━━━━━━━━━━\u001b[0m\u001b[37m\u001b[0m \u001b[1m1s\u001b[0m 2ms/step - loss: 5597.5723 - rmse: 69.6357 - val_loss: 8739.6973 - val_rmse: 83.5072\n",
            "Epoch 36/50\n",
            "\u001b[1m264/264\u001b[0m \u001b[32m━━━━━━━━━━━━━━━━━━━━\u001b[0m\u001b[37m\u001b[0m \u001b[1m1s\u001b[0m 2ms/step - loss: 6035.8638 - rmse: 72.1244 - val_loss: 8524.2607 - val_rmse: 82.5191\n",
            "Epoch 37/50\n",
            "\u001b[1m264/264\u001b[0m \u001b[32m━━━━━━━━━━━━━━━━━━━━\u001b[0m\u001b[37m\u001b[0m \u001b[1m1s\u001b[0m 2ms/step - loss: 5978.4844 - rmse: 70.5479 - val_loss: 8473.3135 - val_rmse: 82.1226\n",
            "Epoch 38/50\n",
            "\u001b[1m264/264\u001b[0m \u001b[32m━━━━━━━━━━━━━━━━━━━━\u001b[0m\u001b[37m\u001b[0m \u001b[1m1s\u001b[0m 2ms/step - loss: 5546.3433 - rmse: 69.2151 - val_loss: 8318.4756 - val_rmse: 81.4168\n",
            "Epoch 39/50\n",
            "\u001b[1m264/264\u001b[0m \u001b[32m━━━━━━━━━━━━━━━━━━━━\u001b[0m\u001b[37m\u001b[0m \u001b[1m0s\u001b[0m 2ms/step - loss: 4920.2256 - rmse: 65.3029 - val_loss: 8151.6973 - val_rmse: 80.7064\n",
            "Epoch 40/50\n",
            "\u001b[1m264/264\u001b[0m \u001b[32m━━━━━━━━━━━━━━━━━━━━\u001b[0m\u001b[37m\u001b[0m \u001b[1m1s\u001b[0m 2ms/step - loss: 5114.5913 - rmse: 66.6537 - val_loss: 8066.0142 - val_rmse: 80.3317\n",
            "Epoch 41/50\n",
            "\u001b[1m264/264\u001b[0m \u001b[32m━━━━━━━━━━━━━━━━━━━━\u001b[0m\u001b[37m\u001b[0m \u001b[1m1s\u001b[0m 2ms/step - loss: 5090.4644 - rmse: 65.9243 - val_loss: 8063.4473 - val_rmse: 80.3067\n",
            "Epoch 42/50\n",
            "\u001b[1m264/264\u001b[0m \u001b[32m━━━━━━━━━━━━━━━━━━━━\u001b[0m\u001b[37m\u001b[0m \u001b[1m1s\u001b[0m 2ms/step - loss: 4587.5547 - rmse: 62.7050 - val_loss: 7852.3745 - val_rmse: 79.4619\n",
            "Epoch 43/50\n",
            "\u001b[1m264/264\u001b[0m \u001b[32m━━━━━━━━━━━━━━━━━━━━\u001b[0m\u001b[37m\u001b[0m \u001b[1m1s\u001b[0m 3ms/step - loss: 5151.9482 - rmse: 66.1805 - val_loss: 7607.0249 - val_rmse: 78.5209\n",
            "Epoch 44/50\n",
            "\u001b[1m264/264\u001b[0m \u001b[32m━━━━━━━━━━━━━━━━━━━━\u001b[0m\u001b[37m\u001b[0m \u001b[1m1s\u001b[0m 3ms/step - loss: 4617.2651 - rmse: 63.4828 - val_loss: 7600.4458 - val_rmse: 78.3655\n",
            "Epoch 45/50\n",
            "\u001b[1m264/264\u001b[0m \u001b[32m━━━━━━━━━━━━━━━━━━━━\u001b[0m\u001b[37m\u001b[0m \u001b[1m1s\u001b[0m 2ms/step - loss: 4573.8926 - rmse: 63.0805 - val_loss: 7446.9385 - val_rmse: 77.8885\n",
            "Epoch 46/50\n",
            "\u001b[1m264/264\u001b[0m \u001b[32m━━━━━━━━━━━━━━━━━━━━\u001b[0m\u001b[37m\u001b[0m \u001b[1m1s\u001b[0m 2ms/step - loss: 4927.2051 - rmse: 66.3111 - val_loss: 7382.1060 - val_rmse: 77.5139\n",
            "Epoch 47/50\n",
            "\u001b[1m264/264\u001b[0m \u001b[32m━━━━━━━━━━━━━━━━━━━━\u001b[0m\u001b[37m\u001b[0m \u001b[1m1s\u001b[0m 2ms/step - loss: 4833.1045 - rmse: 64.3453 - val_loss: 7352.7251 - val_rmse: 77.3304\n",
            "Epoch 48/50\n",
            "\u001b[1m264/264\u001b[0m \u001b[32m━━━━━━━━━━━━━━━━━━━━\u001b[0m\u001b[37m\u001b[0m \u001b[1m1s\u001b[0m 2ms/step - loss: 5074.4126 - rmse: 66.5407 - val_loss: 7288.5117 - val_rmse: 76.9823\n",
            "Epoch 49/50\n",
            "\u001b[1m264/264\u001b[0m \u001b[32m━━━━━━━━━━━━━━━━━━━━\u001b[0m\u001b[37m\u001b[0m \u001b[1m1s\u001b[0m 2ms/step - loss: 4948.5630 - rmse: 66.2296 - val_loss: 7238.2314 - val_rmse: 76.7345\n",
            "Epoch 50/50\n",
            "\u001b[1m264/264\u001b[0m \u001b[32m━━━━━━━━━━━━━━━━━━━━\u001b[0m\u001b[37m\u001b[0m \u001b[1m1s\u001b[0m 2ms/step - loss: 4707.6313 - rmse: 63.9231 - val_loss: 7215.5986 - val_rmse: 76.5953\n"
          ]
        },
        {
          "output_type": "execute_result",
          "data": {
            "text/plain": [
              "<keras.src.callbacks.history.History at 0x79079fe61f30>"
            ]
          },
          "metadata": {},
          "execution_count": 12
        }
      ]
    },
    {
      "cell_type": "code",
      "source": [
        "_, rmse_train = model.evaluate(X_train, y_train)\n",
        "_, rmse_test = model.evaluate(X_test, y_test)\n",
        "\n",
        "print(f'Train RMSE: {rmse_train:.2f}')\n",
        "print(f'Test RMSE: {rmse_test:.2f}')"
      ],
      "metadata": {
        "colab": {
          "base_uri": "https://localhost:8080/"
        },
        "id": "ctay1mSmdto6",
        "outputId": "766a56fd-9fa7-4dee-8359-031c678ca931"
      },
      "execution_count": 13,
      "outputs": [
        {
          "output_type": "stream",
          "name": "stdout",
          "text": [
            "\u001b[1m330/330\u001b[0m \u001b[32m━━━━━━━━━━━━━━━━━━━━\u001b[0m\u001b[37m\u001b[0m \u001b[1m0s\u001b[0m 1ms/step - loss: 4736.8564 - rmse: 63.9008\n",
            "\u001b[1m142/142\u001b[0m \u001b[32m━━━━━━━━━━━━━━━━━━━━\u001b[0m\u001b[37m\u001b[0m \u001b[1m0s\u001b[0m 1ms/step - loss: 5182.0586 - rmse: 65.7998\n",
            "Train RMSE: 66.02\n",
            "Test RMSE: 66.17\n"
          ]
        }
      ]
    }
  ]
}